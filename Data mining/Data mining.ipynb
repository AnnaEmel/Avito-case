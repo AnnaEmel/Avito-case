{
 "cells": [
  {
   "cell_type": "code",
   "execution_count": 1,
   "metadata": {
    "collapsed": true,
    "deletable": true,
    "editable": true
   },
   "outputs": [],
   "source": [
    "import pandas as pd\n",
    "import csv \n",
    "from collections import Counter\n",
    "import numpy as np\n",
    "from datetime import datetime\n",
    "import time"
   ]
  },
  {
   "cell_type": "code",
   "execution_count": 4,
   "metadata": {
    "collapsed": false,
    "deletable": true,
    "editable": true
   },
   "outputs": [
    {
     "data": {
      "text/html": [
       "<div>\n",
       "<table border=\"1\" class=\"dataframe\">\n",
       "  <thead>\n",
       "    <tr style=\"text-align: right;\">\n",
       "      <th></th>\n",
       "      <th>user_id</th>\n",
       "      <th>ticket_category</th>\n",
       "      <th>ticket_subcategory</th>\n",
       "      <th>activity_start</th>\n",
       "      <th>fact_reaction</th>\n",
       "      <th>current_state</th>\n",
       "      <th>request_id</th>\n",
       "    </tr>\n",
       "  </thead>\n",
       "  <tbody>\n",
       "    <tr>\n",
       "      <th>0</th>\n",
       "      <td>7372500022</td>\n",
       "      <td>Блокировки и отклонения</td>\n",
       "      <td>Заблокированное объявление</td>\n",
       "      <td>02.11.2015 8:37</td>\n",
       "      <td>03.11.2015 3:43</td>\n",
       "      <td>Решено</td>\n",
       "      <td>65b9038c-c877-40b6-b583-03d06e9911b9</td>\n",
       "    </tr>\n",
       "    <tr>\n",
       "      <th>1</th>\n",
       "      <td>2051809</td>\n",
       "      <td>Работа с объявлениями и личным кабинетом</td>\n",
       "      <td>Подача объявления</td>\n",
       "      <td>24.11.2015 10:49</td>\n",
       "      <td>25.11.2015 13:07</td>\n",
       "      <td>Решено</td>\n",
       "      <td>f2fbd349-b2a8-47db-bb12-79520cb7092d</td>\n",
       "    </tr>\n",
       "  </tbody>\n",
       "</table>\n",
       "</div>"
      ],
      "text/plain": [
       "      user_id                           ticket_category  \\\n",
       "0  7372500022                   Блокировки и отклонения   \n",
       "1     2051809  Работа с объявлениями и личным кабинетом   \n",
       "\n",
       "           ticket_subcategory    activity_start     fact_reaction  \\\n",
       "0  Заблокированное объявление   02.11.2015 8:37   03.11.2015 3:43   \n",
       "1           Подача объявления  24.11.2015 10:49  25.11.2015 13:07   \n",
       "\n",
       "  current_state                            request_id  \n",
       "0        Решено  65b9038c-c877-40b6-b583-03d06e9911b9  \n",
       "1        Решено  f2fbd349-b2a8-47db-bb12-79520cb7092d  "
      ]
     },
     "execution_count": 4,
     "metadata": {},
     "output_type": "execute_result"
    }
   ],
   "source": [
    "df_sup = pd.read_csv(\"support_tickets_sep15-dec15.csv\", encoding=\"windows-1251\", sep = \";\")\n",
    "df_sup.head(2)"
   ]
  },
  {
   "cell_type": "code",
   "execution_count": 9,
   "metadata": {
    "collapsed": false,
    "deletable": true,
    "editable": true
   },
   "outputs": [
    {
     "data": {
      "text/html": [
       "<div>\n",
       "<table border=\"1\" class=\"dataframe\">\n",
       "  <thead>\n",
       "    <tr style=\"text-align: right;\">\n",
       "      <th></th>\n",
       "      <th>request_ID</th>\n",
       "      <th>result_mentioned_by_user</th>\n",
       "      <th>mark_values</th>\n",
       "    </tr>\n",
       "  </thead>\n",
       "  <tbody>\n",
       "    <tr>\n",
       "      <th>0</th>\n",
       "      <td>09e34912-b4df-4e91-b3e0-35b40fe6b9b8</td>\n",
       "      <td>Не удовлетворительно</td>\n",
       "      <td>2</td>\n",
       "    </tr>\n",
       "    <tr>\n",
       "      <th>1</th>\n",
       "      <td>76099bef-7ab3-4a01-96c3-4c06f4032a7e</td>\n",
       "      <td>Не удовлетворительно</td>\n",
       "      <td>2</td>\n",
       "    </tr>\n",
       "  </tbody>\n",
       "</table>\n",
       "</div>"
      ],
      "text/plain": [
       "                             request_ID result_mentioned_by_user  mark_values\n",
       "0  09e34912-b4df-4e91-b3e0-35b40fe6b9b8     Не удовлетворительно            2\n",
       "1  76099bef-7ab3-4a01-96c3-4c06f4032a7e     Не удовлетворительно            2"
      ]
     },
     "execution_count": 9,
     "metadata": {},
     "output_type": "execute_result"
    }
   ],
   "source": [
    "df_mark = pd.read_csv(\"Users_evaluation_of_satisfaction.csv\", encoding=\"windows-1251\", sep = \",\")\n",
    "df_mark.head(2)"
   ]
  },
  {
   "cell_type": "code",
   "execution_count": 10,
   "metadata": {
    "collapsed": false,
    "deletable": true,
    "editable": true
   },
   "outputs": [],
   "source": [
    "dict_mark = {}\n",
    "for _, row in df_mark.iterrows():\n",
    "    ID = row[\"request_ID\"]\n",
    "    res = row[\"mark_values\"]\n",
    "    dict_mark[ID] = res\n",
    "    \n",
    "\n",
    "dict[1{id: 2}"
   ]
  },
  {
   "cell_type": "code",
   "execution_count": 2,
   "metadata": {
    "collapsed": false
   },
   "outputs": [
    {
     "data": {
      "text/plain": [
       "'a'"
      ]
     },
     "execution_count": 2,
     "metadata": {},
     "output_type": "execute_result"
    }
   ],
   "source": [
    "dict1 = {1:'a', 2:'b'}\n",
    "dict1[1]"
   ]
  },
  {
   "cell_type": "code",
   "execution_count": 9,
   "metadata": {
    "collapsed": true,
    "deletable": true,
    "editable": true
   },
   "outputs": [],
   "source": [
    "df_sup[\"mark\"] = np.nan\n",
    "def dict_mark_not(x):\n",
    "    if x in dict_mark: \n",
    "        y = dict_mark[x]\n",
    "    else:\n",
    "        y = np.nan\n",
    "    return y\n",
    "df_sup.mark = df_sup.request_id.apply(lambda x: dict_mark_not(x))    "
   ]
  },
  {
   "cell_type": "code",
   "execution_count": 11,
   "metadata": {
    "collapsed": false,
    "deletable": true,
    "editable": true
   },
   "outputs": [],
   "source": [
    "df_sup['activity_start_time'] = df_sup.activity_start.apply(lambda x: time.mktime(datetime.strptime(x, \"%d.%m.%Y %H:%M\").timetuple()))\n",
    "TimeAll_fact = []\n",
    "for t in df_sup.fact_reaction:\n",
    "    try:\n",
    "        if len(t.split(\" \")[1])>5:\n",
    "            t = t[:-3]\n",
    "        t = t.replace(\"-\", \".\")\n",
    "        t = t.replace(\"0001\", \"2016\")\n",
    "        d = datetime.strptime(t, \"%d.%m.%Y %H:%M\")\n",
    "        TimeAll_fact.append(time.mktime(d.timetuple()))\n",
    "    except Exception:\n",
    "        print(t)\n",
    "    \n",
    "\n",
    "df_sup['fact_reaction_time'] = TimeAll_fact"
   ]
  },
  {
   "cell_type": "code",
   "execution_count": 12,
   "metadata": {
    "collapsed": true,
    "deletable": true,
    "editable": true
   },
   "outputs": [],
   "source": [
    "df_sup = df_sup.sort_values(['activity_start'], ascending=True).fillna(0)"
   ]
  },
  {
   "cell_type": "code",
   "execution_count": 13,
   "metadata": {
    "collapsed": false,
    "deletable": true,
    "editable": true
   },
   "outputs": [
    {
     "data": {
      "text/html": [
       "<div>\n",
       "<table border=\"1\" class=\"dataframe\">\n",
       "  <thead>\n",
       "    <tr style=\"text-align: right;\">\n",
       "      <th></th>\n",
       "      <th>user_id</th>\n",
       "      <th>ticket_category</th>\n",
       "      <th>ticket_subcategory</th>\n",
       "      <th>activity_start</th>\n",
       "      <th>fact_reaction</th>\n",
       "      <th>current_state</th>\n",
       "      <th>request_id</th>\n",
       "      <th>activity_start_time</th>\n",
       "      <th>fact_reaction_time</th>\n",
       "    </tr>\n",
       "  </thead>\n",
       "  <tbody>\n",
       "    <tr>\n",
       "      <th>243217</th>\n",
       "      <td>147134000021</td>\n",
       "      <td>Технические вопросы</td>\n",
       "      <td>Доступ к сайту</td>\n",
       "      <td>01.09.2015 0:00</td>\n",
       "      <td>01.09.2015 14:25</td>\n",
       "      <td>Решено</td>\n",
       "      <td>7a572122-eee7-487b-ae8e-46c131a1f293</td>\n",
       "      <td>1.441055e+09</td>\n",
       "      <td>1.441107e+09</td>\n",
       "    </tr>\n",
       "    <tr>\n",
       "      <th>125656</th>\n",
       "      <td>372769871</td>\n",
       "      <td>Работа с объявлениями и личным кабинетом</td>\n",
       "      <td>Удаление учетной записи</td>\n",
       "      <td>01.09.2015 0:00</td>\n",
       "      <td>01.09.2015 0:39</td>\n",
       "      <td>Решено</td>\n",
       "      <td>6de7d6b3-ce60-45f1-8144-17a4fb913a5e</td>\n",
       "      <td>1.441055e+09</td>\n",
       "      <td>1.441057e+09</td>\n",
       "    </tr>\n",
       "  </tbody>\n",
       "</table>\n",
       "</div>"
      ],
      "text/plain": [
       "             user_id                           ticket_category  \\\n",
       "243217  147134000021                       Технические вопросы   \n",
       "125656     372769871  Работа с объявлениями и личным кабинетом   \n",
       "\n",
       "             ticket_subcategory   activity_start     fact_reaction  \\\n",
       "243217           Доступ к сайту  01.09.2015 0:00  01.09.2015 14:25   \n",
       "125656  Удаление учетной записи  01.09.2015 0:00   01.09.2015 0:39   \n",
       "\n",
       "       current_state                            request_id  \\\n",
       "243217        Решено  7a572122-eee7-487b-ae8e-46c131a1f293   \n",
       "125656        Решено  6de7d6b3-ce60-45f1-8144-17a4fb913a5e   \n",
       "\n",
       "        activity_start_time  fact_reaction_time  \n",
       "243217         1.441055e+09        1.441107e+09  \n",
       "125656         1.441055e+09        1.441057e+09  "
      ]
     },
     "execution_count": 13,
     "metadata": {},
     "output_type": "execute_result"
    }
   ],
   "source": [
    "df_sup.head(2)"
   ]
  },
  {
   "cell_type": "code",
   "execution_count": 14,
   "metadata": {
    "collapsed": false,
    "deletable": true,
    "editable": true
   },
   "outputs": [
    {
     "name": "stdout",
     "output_type": "stream",
     "text": [
      "<class 'pandas.core.frame.DataFrame'>\n",
      "Int64Index: 415005 entries, 243217 to 224531\n",
      "Data columns (total 9 columns):\n",
      "user_id                415005 non-null int64\n",
      "ticket_category        415005 non-null object\n",
      "ticket_subcategory     415005 non-null object\n",
      "activity_start         415005 non-null object\n",
      "fact_reaction          415005 non-null object\n",
      "current_state          415005 non-null object\n",
      "request_id             415005 non-null object\n",
      "activity_start_time    415005 non-null float64\n",
      "fact_reaction_time     415005 non-null float64\n",
      "dtypes: float64(2), int64(1), object(6)\n",
      "memory usage: 31.7+ MB\n"
     ]
    }
   ],
   "source": [
    "df_sup.info()"
   ]
  },
  {
   "cell_type": "code",
   "execution_count": 18,
   "metadata": {
    "collapsed": true,
    "deletable": true,
    "editable": true
   },
   "outputs": [],
   "source": [
    "df_sup.to_csv(\"support_tickets.csv\", index=False)"
   ]
  },
  {
   "cell_type": "markdown",
   "metadata": {
    "deletable": true,
    "editable": true
   },
   "source": [
    "### Items_df\n"
   ]
  },
  {
   "cell_type": "code",
   "execution_count": 61,
   "metadata": {
    "collapsed": false,
    "deletable": true,
    "editable": true
   },
   "outputs": [
    {
     "data": {
      "text/html": [
       "<div>\n",
       "<table border=\"1\" class=\"dataframe\">\n",
       "  <thead>\n",
       "    <tr style=\"text-align: right;\">\n",
       "      <th></th>\n",
       "      <th>user_id</th>\n",
       "      <th>user_registration_time</th>\n",
       "      <th>user_first_listing_date</th>\n",
       "      <th>item_id</th>\n",
       "      <th>item_starttime</th>\n",
       "      <th>item_category</th>\n",
       "      <th>item_subcategory</th>\n",
       "    </tr>\n",
       "  </thead>\n",
       "  <tbody>\n",
       "    <tr>\n",
       "      <th>0</th>\n",
       "      <td>44</td>\n",
       "      <td>2008-02-15 00:46:47</td>\n",
       "      <td>2008-07-23 17:11:18</td>\n",
       "      <td>275074000507</td>\n",
       "      <td>2016-03-15 19:00:26</td>\n",
       "      <td>Хобби и отдых</td>\n",
       "      <td>Книги и журналы</td>\n",
       "    </tr>\n",
       "    <tr>\n",
       "      <th>1</th>\n",
       "      <td>44</td>\n",
       "      <td>2008-02-15 00:46:47</td>\n",
       "      <td>2008-07-23 17:11:18</td>\n",
       "      <td>238367001948</td>\n",
       "      <td>2015-12-10 14:29:48</td>\n",
       "      <td>Для дома и дачи</td>\n",
       "      <td>Мебель и интерьер</td>\n",
       "    </tr>\n",
       "  </tbody>\n",
       "</table>\n",
       "</div>"
      ],
      "text/plain": [
       "   user_id user_registration_time user_first_listing_date       item_id  \\\n",
       "0       44    2008-02-15 00:46:47     2008-07-23 17:11:18  275074000507   \n",
       "1       44    2008-02-15 00:46:47     2008-07-23 17:11:18  238367001948   \n",
       "\n",
       "        item_starttime    item_category   item_subcategory  \n",
       "0  2016-03-15 19:00:26    Хобби и отдых    Книги и журналы  \n",
       "1  2015-12-10 14:29:48  Для дома и дачи  Мебель и интерьер  "
      ]
     },
     "execution_count": 61,
     "metadata": {},
     "output_type": "execute_result"
    }
   ],
   "source": [
    "df1 = pd.read_csv(\"df1.csv\", encoding=\"windows-1251\")\n",
    "df1.head(2)"
   ]
  },
  {
   "cell_type": "code",
   "execution_count": 24,
   "metadata": {
    "collapsed": false,
    "deletable": true,
    "editable": true
   },
   "outputs": [
    {
     "data": {
      "text/html": [
       "<div>\n",
       "<table border=\"1\" class=\"dataframe\">\n",
       "  <thead>\n",
       "    <tr style=\"text-align: right;\">\n",
       "      <th></th>\n",
       "      <th>user_id</th>\n",
       "      <th>user_registration_time</th>\n",
       "      <th>user_first_listing_date</th>\n",
       "      <th>item_id</th>\n",
       "      <th>item_starttime</th>\n",
       "      <th>item_category</th>\n",
       "      <th>item_subcategory</th>\n",
       "    </tr>\n",
       "  </thead>\n",
       "  <tbody>\n",
       "    <tr>\n",
       "      <th>0</th>\n",
       "      <td>3252891</td>\n",
       "      <td>2011-02-03 09:47:15</td>\n",
       "      <td>2011-02-03 09:47:15</td>\n",
       "      <td>227974750586</td>\n",
       "      <td>2015-11-09 20:12:20</td>\n",
       "      <td>Недвижимость</td>\n",
       "      <td>Квартиры</td>\n",
       "    </tr>\n",
       "    <tr>\n",
       "      <th>1</th>\n",
       "      <td>3252891</td>\n",
       "      <td>2011-02-03 09:47:15</td>\n",
       "      <td>2011-02-03 09:47:15</td>\n",
       "      <td>200143000057</td>\n",
       "      <td>2015-09-03 08:57:38</td>\n",
       "      <td>Недвижимость</td>\n",
       "      <td>Квартиры</td>\n",
       "    </tr>\n",
       "  </tbody>\n",
       "</table>\n",
       "</div>"
      ],
      "text/plain": [
       "   user_id user_registration_time user_first_listing_date       item_id  \\\n",
       "0  3252891    2011-02-03 09:47:15     2011-02-03 09:47:15  227974750586   \n",
       "1  3252891    2011-02-03 09:47:15     2011-02-03 09:47:15  200143000057   \n",
       "\n",
       "        item_starttime item_category item_subcategory  \n",
       "0  2015-11-09 20:12:20  Недвижимость         Квартиры  \n",
       "1  2015-09-03 08:57:38  Недвижимость         Квартиры  "
      ]
     },
     "execution_count": 24,
     "metadata": {},
     "output_type": "execute_result"
    }
   ],
   "source": [
    "df2 = pd.read_csv(\"df2.csv\", encoding=\"windows-1251\")\n",
    "df2.head(2)"
   ]
  },
  {
   "cell_type": "code",
   "execution_count": 25,
   "metadata": {
    "collapsed": false,
    "deletable": true,
    "editable": true
   },
   "outputs": [
    {
     "data": {
      "text/html": [
       "<div>\n",
       "<table border=\"1\" class=\"dataframe\">\n",
       "  <thead>\n",
       "    <tr style=\"text-align: right;\">\n",
       "      <th></th>\n",
       "      <th>user_id</th>\n",
       "      <th>user_registration_time</th>\n",
       "      <th>user_first_listing_date</th>\n",
       "      <th>item_id</th>\n",
       "      <th>item_starttime</th>\n",
       "      <th>item_category</th>\n",
       "      <th>item_subcategory</th>\n",
       "    </tr>\n",
       "  </thead>\n",
       "  <tbody>\n",
       "    <tr>\n",
       "      <th>0</th>\n",
       "      <td>24206250072</td>\n",
       "      <td>2014-06-02 08:49:46</td>\n",
       "      <td>2014-06-02 08:56:33</td>\n",
       "      <td>83915500591</td>\n",
       "      <td>2014-12-16 14:22:37</td>\n",
       "      <td>Работа</td>\n",
       "      <td>Вакансии</td>\n",
       "    </tr>\n",
       "    <tr>\n",
       "      <th>1</th>\n",
       "      <td>24206250072</td>\n",
       "      <td>2014-06-02 08:49:46</td>\n",
       "      <td>2014-06-02 08:56:33</td>\n",
       "      <td>30965500127</td>\n",
       "      <td>2014-06-24 11:21:36</td>\n",
       "      <td>Работа</td>\n",
       "      <td>Вакансии</td>\n",
       "    </tr>\n",
       "  </tbody>\n",
       "</table>\n",
       "</div>"
      ],
      "text/plain": [
       "       user_id user_registration_time user_first_listing_date      item_id  \\\n",
       "0  24206250072    2014-06-02 08:49:46     2014-06-02 08:56:33  83915500591   \n",
       "1  24206250072    2014-06-02 08:49:46     2014-06-02 08:56:33  30965500127   \n",
       "\n",
       "        item_starttime item_category item_subcategory  \n",
       "0  2014-12-16 14:22:37        Работа         Вакансии  \n",
       "1  2014-06-24 11:21:36        Работа         Вакансии  "
      ]
     },
     "execution_count": 25,
     "metadata": {},
     "output_type": "execute_result"
    }
   ],
   "source": [
    "df3 = pd.read_csv(\"df3.csv\", encoding=\"windows-1251\")\n",
    "df3.head(2)"
   ]
  },
  {
   "cell_type": "code",
   "execution_count": 73,
   "metadata": {
    "collapsed": true,
    "deletable": true,
    "editable": true
   },
   "outputs": [],
   "source": [
    "df1.user_first_listing_date = df1.user_first_listing_date.apply(lambda x: str(x))\n",
    "df1.item_starttime = df1.item_starttime.apply(lambda x: str(x))"
   ]
  },
  {
   "cell_type": "code",
   "execution_count": 27,
   "metadata": {
    "collapsed": true,
    "deletable": true,
    "editable": true
   },
   "outputs": [],
   "source": [
    "df2.user_first_listing_date = df2.user_first_listing_date.apply(lambda x: str(x))\n",
    "df2.item_starttime = df2.item_starttime.apply(lambda x: str(x))"
   ]
  },
  {
   "cell_type": "code",
   "execution_count": 28,
   "metadata": {
    "collapsed": true,
    "deletable": true,
    "editable": true
   },
   "outputs": [],
   "source": [
    "df3.user_first_listing_date = df3.user_first_listing_date.apply(lambda x: str(x))\n",
    "df3.item_starttime = df3.item_starttime.apply(lambda x: str(x))"
   ]
  },
  {
   "cell_type": "code",
   "execution_count": 64,
   "metadata": {
    "collapsed": false,
    "deletable": true,
    "editable": true
   },
   "outputs": [
    {
     "data": {
      "text/plain": [
       "'02.06.2014 08:49:46'"
      ]
     },
     "execution_count": 64,
     "metadata": {},
     "output_type": "execute_result"
    }
   ],
   "source": [
    "def date_change(date):\n",
    "    list1 = date.split(\" \")[0].split(\"-\")\n",
    "    year = list1[0]\n",
    "    month = list1[1]\n",
    "    day = list1[2]\n",
    "    data_new_list1 = [day, month, year]\n",
    "    data_new1 = \".\".join(data_new_list1)\n",
    "    data_new_list2 = [data_new1, date.split(\" \")[1]]\n",
    "    data_new = \" \".join(data_new_list2)\n",
    "    return(data_new)\n",
    "    \n",
    "date = \"2014-06-02 08:49:46\"  \n",
    "date_change(date)  "
   ]
  },
  {
   "cell_type": "code",
   "execution_count": 69,
   "metadata": {
    "collapsed": false,
    "deletable": true,
    "editable": true
   },
   "outputs": [
    {
     "data": {
      "text/plain": [
       "1321096957.0"
      ]
     },
     "execution_count": 69,
     "metadata": {},
     "output_type": "execute_result"
    }
   ],
   "source": [
    "def time_t(t):\n",
    "    if t != \"nan\":\n",
    "        time_t = date_change(t)\n",
    "        time_t = time.mktime(datetime.strptime(time_t, \"%d.%m.%Y %H:%M:%S\").timetuple())\n",
    "        return(time_t)\n",
    "    return(np.nan)"
   ]
  },
  {
   "cell_type": "code",
   "execution_count": 74,
   "metadata": {
    "collapsed": false,
    "deletable": true,
    "editable": true
   },
   "outputs": [],
   "source": [
    "df1[\"time_items\"] = df1.item_starttime.apply(lambda x: time_t(x))\n",
    "df1[\"time_first_items\"] = df1.user_first_listing_date.apply(lambda x: time_t(x))"
   ]
  },
  {
   "cell_type": "code",
   "execution_count": 75,
   "metadata": {
    "collapsed": true,
    "deletable": true,
    "editable": true
   },
   "outputs": [],
   "source": [
    "df2[\"time_items\"] = df2.item_starttime.apply(lambda x: time_t(x))\n",
    "df2[\"time_first_items\"] = df2.user_first_listing_date.apply(lambda x: time_t(x))"
   ]
  },
  {
   "cell_type": "code",
   "execution_count": 76,
   "metadata": {
    "collapsed": true,
    "deletable": true,
    "editable": true
   },
   "outputs": [],
   "source": [
    "df3[\"time_items\"] = df3.item_starttime.apply(lambda x: time_t(x))\n",
    "df3[\"time_first_items\"] = df3.user_first_listing_date.apply(lambda x: time_t(x))"
   ]
  },
  {
   "cell_type": "code",
   "execution_count": 81,
   "metadata": {
    "collapsed": true,
    "deletable": true,
    "editable": true
   },
   "outputs": [],
   "source": [
    "df1.to_csv(\"df1_new.csv\", index = False)\n",
    "df2.to_csv(\"df2_new.csv\", index = False)\n",
    "df3.to_csv(\"df3_new.csv\", index = False)"
   ]
  },
  {
   "cell_type": "markdown",
   "metadata": {
    "deletable": true,
    "editable": true
   },
   "source": [
    "### tran_df "
   ]
  },
  {
   "cell_type": "code",
   "execution_count": 79,
   "metadata": {
    "collapsed": false,
    "deletable": true,
    "editable": true
   },
   "outputs": [
    {
     "data": {
      "text/html": [
       "<div>\n",
       "<table border=\"1\" class=\"dataframe\">\n",
       "  <thead>\n",
       "    <tr style=\"text-align: right;\">\n",
       "      <th></th>\n",
       "      <th>user_id</th>\n",
       "      <th>item_id</th>\n",
       "      <th>pay_time</th>\n",
       "      <th>transaction_type</th>\n",
       "      <th>revenue</th>\n",
       "    </tr>\n",
       "  </thead>\n",
       "  <tbody>\n",
       "    <tr>\n",
       "      <th>0</th>\n",
       "      <td>364762056</td>\n",
       "      <td>1.572400e+10</td>\n",
       "      <td>2014-03-29 20:11:46</td>\n",
       "      <td>VAS</td>\n",
       "      <td>3.434783</td>\n",
       "    </tr>\n",
       "    <tr>\n",
       "      <th>1</th>\n",
       "      <td>364762056</td>\n",
       "      <td>1.387125e+10</td>\n",
       "      <td>2014-03-29 20:14:03</td>\n",
       "      <td>VAS</td>\n",
       "      <td>1.695652</td>\n",
       "    </tr>\n",
       "  </tbody>\n",
       "</table>\n",
       "</div>"
      ],
      "text/plain": [
       "     user_id       item_id             pay_time transaction_type   revenue\n",
       "0  364762056  1.572400e+10  2014-03-29 20:11:46              VAS  3.434783\n",
       "1  364762056  1.387125e+10  2014-03-29 20:14:03              VAS  1.695652"
      ]
     },
     "execution_count": 79,
     "metadata": {},
     "output_type": "execute_result"
    }
   ],
   "source": [
    "df_tran = pd.read_csv(\"paid_transaction_by_support_users.csv\", encoding=\"ISO-8859-1\", sep = ';')\n",
    "df_tran.head(2)"
   ]
  },
  {
   "cell_type": "code",
   "execution_count": 80,
   "metadata": {
    "collapsed": false,
    "deletable": true,
    "editable": true
   },
   "outputs": [
    {
     "data": {
      "text/html": [
       "<div>\n",
       "<table border=\"1\" class=\"dataframe\">\n",
       "  <thead>\n",
       "    <tr style=\"text-align: right;\">\n",
       "      <th></th>\n",
       "      <th>user_id</th>\n",
       "      <th>item_id</th>\n",
       "      <th>pay_time</th>\n",
       "      <th>transaction_type</th>\n",
       "      <th>revenue</th>\n",
       "      <th>time_pay</th>\n",
       "    </tr>\n",
       "  </thead>\n",
       "  <tbody>\n",
       "    <tr>\n",
       "      <th>0</th>\n",
       "      <td>364762056</td>\n",
       "      <td>1.572400e+10</td>\n",
       "      <td>2014-03-29 20:11:46</td>\n",
       "      <td>VAS</td>\n",
       "      <td>3.434783</td>\n",
       "      <td>1.396113e+09</td>\n",
       "    </tr>\n",
       "    <tr>\n",
       "      <th>1</th>\n",
       "      <td>364762056</td>\n",
       "      <td>1.387125e+10</td>\n",
       "      <td>2014-03-29 20:14:03</td>\n",
       "      <td>VAS</td>\n",
       "      <td>1.695652</td>\n",
       "      <td>1.396113e+09</td>\n",
       "    </tr>\n",
       "    <tr>\n",
       "      <th>2</th>\n",
       "      <td>364762056</td>\n",
       "      <td>1.804950e+10</td>\n",
       "      <td>2014-04-19 14:01:31</td>\n",
       "      <td>VAS</td>\n",
       "      <td>4.304348</td>\n",
       "      <td>1.397905e+09</td>\n",
       "    </tr>\n",
       "    <tr>\n",
       "      <th>3</th>\n",
       "      <td>364762056</td>\n",
       "      <td>2.049775e+10</td>\n",
       "      <td>2014-05-13 12:44:47</td>\n",
       "      <td>VAS</td>\n",
       "      <td>2.565217</td>\n",
       "      <td>1.399974e+09</td>\n",
       "    </tr>\n",
       "    <tr>\n",
       "      <th>4</th>\n",
       "      <td>364762056</td>\n",
       "      <td>1.804950e+10</td>\n",
       "      <td>2014-05-18 17:12:34</td>\n",
       "      <td>VAS</td>\n",
       "      <td>3.000000</td>\n",
       "      <td>1.400422e+09</td>\n",
       "    </tr>\n",
       "  </tbody>\n",
       "</table>\n",
       "</div>"
      ],
      "text/plain": [
       "     user_id       item_id             pay_time transaction_type   revenue  \\\n",
       "0  364762056  1.572400e+10  2014-03-29 20:11:46              VAS  3.434783   \n",
       "1  364762056  1.387125e+10  2014-03-29 20:14:03              VAS  1.695652   \n",
       "2  364762056  1.804950e+10  2014-04-19 14:01:31              VAS  4.304348   \n",
       "3  364762056  2.049775e+10  2014-05-13 12:44:47              VAS  2.565217   \n",
       "4  364762056  1.804950e+10  2014-05-18 17:12:34              VAS  3.000000   \n",
       "\n",
       "       time_pay  \n",
       "0  1.396113e+09  \n",
       "1  1.396113e+09  \n",
       "2  1.397905e+09  \n",
       "3  1.399974e+09  \n",
       "4  1.400422e+09  "
      ]
     },
     "execution_count": 80,
     "metadata": {},
     "output_type": "execute_result"
    }
   ],
   "source": [
    "df_tran[\"time_pay\"] = df_tran.pay_time.apply(lambda x: time_t(x))\n",
    "df_tran.head()"
   ]
  },
  {
   "cell_type": "code",
   "execution_count": 82,
   "metadata": {
    "collapsed": true,
    "deletable": true,
    "editable": true
   },
   "outputs": [],
   "source": [
    "df_tran.to_csv(\"transaction.csv\", index = False)"
   ]
  }
 ],
 "metadata": {
  "anaconda-cloud": {},
  "kernelspec": {
   "display_name": "Python [default]",
   "language": "python",
   "name": "python3"
  },
  "language_info": {
   "codemirror_mode": {
    "name": "ipython",
    "version": 3
   },
   "file_extension": ".py",
   "mimetype": "text/x-python",
   "name": "python",
   "nbconvert_exporter": "python",
   "pygments_lexer": "ipython3",
   "version": "3.5.3"
  }
 },
 "nbformat": 4,
 "nbformat_minor": 0
}
